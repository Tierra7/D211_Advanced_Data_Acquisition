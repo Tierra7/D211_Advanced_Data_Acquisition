{
 "cells": [
  {
   "cell_type": "markdown",
   "metadata": {},
   "source": [
    "## Directions for running SQL in Jupyter"
   ]
  },
  {
   "cell_type": "code",
   "execution_count": 1,
   "metadata": {},
   "outputs": [],
   "source": [
    "# Import libraries\n",
    "import pandas as pd\n",
    "import sqlite3\n",
    "import sql"
   ]
  },
  {
   "cell_type": "code",
   "execution_count": 2,
   "metadata": {},
   "outputs": [],
   "source": [
    "# Install the iPython-sql library\n",
    "# !pip install ipython-sql"
   ]
  },
  {
   "cell_type": "code",
   "execution_count": 3,
   "metadata": {},
   "outputs": [],
   "source": [
    "# Create a dataframe to import data for the tutorial\n",
    "# sheborgs = pd.DataFrame({'Name': ['Alita', 'Cortana', 'Major'], \n",
    "#                   'Age': [18, 21, 35], \n",
    "#                   'Space': ['Cyborg World', 'Halo','Ghost in the Shell']})\n",
    "\n",
    "# sheborgs"
   ]
  },
  {
   "cell_type": "code",
   "execution_count": 4,
   "metadata": {},
   "outputs": [],
   "source": [
    "# We will sqlite3 library and create a connection\n",
    "cnn = sqlite3.connect('jupyter_sql_tutorial.db')"
   ]
  },
  {
   "cell_type": "code",
   "execution_count": 5,
   "metadata": {},
   "outputs": [],
   "source": [
    "# sheborgs.to_sql('Sheborgs', cnn)"
   ]
  },
  {
   "cell_type": "code",
   "execution_count": 6,
   "metadata": {},
   "outputs": [],
   "source": [
    "# Load the SQL module to iPython\n",
    "%load_ext sql"
   ]
  },
  {
   "cell_type": "code",
   "execution_count": 7,
   "metadata": {},
   "outputs": [],
   "source": [
    "%sql sqlite:///jupyter_sql_tutorial.db"
   ]
  },
  {
   "cell_type": "code",
   "execution_count": 8,
   "metadata": {},
   "outputs": [
    {
     "name": "stdout",
     "output_type": "stream",
     "text": [
      " * sqlite:///jupyter_sql_tutorial.db\n",
      "Done.\n"
     ]
    },
    {
     "data": {
      "text/html": [
       "<table>\n",
       "    <tr>\n",
       "        <th>index</th>\n",
       "        <th>name</th>\n",
       "        <th>age</th>\n",
       "        <th>space</th>\n",
       "        <th>Beauty</th>\n",
       "    </tr>\n",
       "    <tr>\n",
       "        <td>0</td>\n",
       "        <td>Alita</td>\n",
       "        <td>18</td>\n",
       "        <td>Cyborg World</td>\n",
       "        <td>8</td>\n",
       "    </tr>\n",
       "    <tr>\n",
       "        <td>1</td>\n",
       "        <td>Cortana</td>\n",
       "        <td>21</td>\n",
       "        <td>Halo</td>\n",
       "        <td>9</td>\n",
       "    </tr>\n",
       "    <tr>\n",
       "        <td>2</td>\n",
       "        <td>Major</td>\n",
       "        <td>35</td>\n",
       "        <td>Ghost in the Shell</td>\n",
       "        <td>10</td>\n",
       "    </tr>\n",
       "</table>"
      ],
      "text/plain": [
       "[(0, 'Alita', 18, 'Cyborg World', 8),\n",
       " (1, 'Cortana', 21, 'Halo', 9),\n",
       " (2, 'Major', 35, 'Ghost in the Shell', 10)]"
      ]
     },
     "execution_count": 8,
     "metadata": {},
     "output_type": "execute_result"
    }
   ],
   "source": [
    "%%sql\n",
    "SELECT *\n",
    "FROM Sheborgs"
   ]
  },
  {
   "cell_type": "code",
   "execution_count": 9,
   "metadata": {},
   "outputs": [
    {
     "name": "stdout",
     "output_type": "stream",
     "text": [
      " * sqlite:///jupyter_sql_tutorial.db\n",
      "Done.\n"
     ]
    },
    {
     "data": {
      "text/html": [
       "<table>\n",
       "    <tr>\n",
       "        <th>count(*)</th>\n",
       "    </tr>\n",
       "    <tr>\n",
       "        <td>3</td>\n",
       "    </tr>\n",
       "</table>"
      ],
      "text/plain": [
       "[(3,)]"
      ]
     },
     "execution_count": 9,
     "metadata": {},
     "output_type": "execute_result"
    }
   ],
   "source": [
    "%%sql\n",
    "SELECT count(*)\n",
    "FROM Sheborgs"
   ]
  },
  {
   "cell_type": "code",
   "execution_count": 10,
   "metadata": {},
   "outputs": [
    {
     "name": "stdout",
     "output_type": "stream",
     "text": [
      " * sqlite:///jupyter_sql_tutorial.db\n",
      "Done.\n"
     ]
    },
    {
     "data": {
      "text/html": [
       "<table>\n",
       "    <tr>\n",
       "        <th>age_sum</th>\n",
       "    </tr>\n",
       "    <tr>\n",
       "        <td>74</td>\n",
       "    </tr>\n",
       "</table>"
      ],
      "text/plain": [
       "[(74,)]"
      ]
     },
     "execution_count": 10,
     "metadata": {},
     "output_type": "execute_result"
    }
   ],
   "source": [
    "%%sql\n",
    "SELECT sum(age) as 'age_sum'\n",
    "FROM Sheborgs"
   ]
  },
  {
   "cell_type": "code",
   "execution_count": 11,
   "metadata": {},
   "outputs": [
    {
     "name": "stdout",
     "output_type": "stream",
     "text": [
      " * sqlite:///jupyter_sql_tutorial.db\n",
      "(sqlite3.OperationalError) unrecognized token: \"#\"\n",
      "[SQL: # ALTER TABLE Sheborgs\n",
      "# ADD Beauty;]\n",
      "(Background on this error at: http://sqlalche.me/e/e3q8)\n"
     ]
    }
   ],
   "source": [
    "%%sql\n",
    "\n",
    "# ALTER TABLE Sheborgs\n",
    "# ADD Beauty;"
   ]
  },
  {
   "cell_type": "code",
   "execution_count": 12,
   "metadata": {},
   "outputs": [
    {
     "name": "stdout",
     "output_type": "stream",
     "text": [
      " * sqlite:///jupyter_sql_tutorial.db\n",
      "Done.\n"
     ]
    },
    {
     "data": {
      "text/html": [
       "<table>\n",
       "    <tr>\n",
       "        <th>name</th>\n",
       "        <th>Beauty</th>\n",
       "    </tr>\n",
       "    <tr>\n",
       "        <td>Cortana</td>\n",
       "        <td>9</td>\n",
       "    </tr>\n",
       "</table>"
      ],
      "text/plain": [
       "[('Cortana', 9)]"
      ]
     },
     "execution_count": 12,
     "metadata": {},
     "output_type": "execute_result"
    }
   ],
   "source": [
    "%%sql\n",
    "\n",
    "SELECT \n",
    "    name, Beauty\n",
    "FROM Sheborgs\n",
    "WHERE \n",
    "    space = 'Halo';"
   ]
  },
  {
   "cell_type": "code",
   "execution_count": 14,
   "metadata": {
    "scrolled": true
   },
   "outputs": [
    {
     "name": "stdout",
     "output_type": "stream",
     "text": [
      " * sqlite:///jupyter_sql_tutorial.db\n",
      "Done.\n"
     ]
    },
    {
     "data": {
      "text/html": [
       "<table>\n",
       "    <tr>\n",
       "        <th>index</th>\n",
       "        <th>Name</th>\n",
       "        <th>Age</th>\n",
       "        <th>Space</th>\n",
       "        <th>Beauty</th>\n",
       "        <th>Year</th>\n",
       "        <th>Budget</th>\n",
       "        <th>Gross</th>\n",
       "        <th>Notes</th>\n",
       "    </tr>\n",
       "    <tr>\n",
       "        <td>0</td>\n",
       "        <td>Alita</td>\n",
       "        <td>18</td>\n",
       "        <td>Zalem</td>\n",
       "        <td>8</td>\n",
       "        <td>2019</td>\n",
       "        <td>200000000</td>\n",
       "        <td>404000000</td>\n",
       "        <td>None</td>\n",
       "    </tr>\n",
       "    <tr>\n",
       "        <td>1</td>\n",
       "        <td>Cortana</td>\n",
       "        <td>21</td>\n",
       "        <td>Halo</td>\n",
       "        <td>9</td>\n",
       "        <td>2001</td>\n",
       "        <td>None</td>\n",
       "        <td>None</td>\n",
       "        <td>None</td>\n",
       "    </tr>\n",
       "    <tr>\n",
       "        <td>2</td>\n",
       "        <td>Major</td>\n",
       "        <td>35</td>\n",
       "        <td>Ghost in the Shell</td>\n",
       "        <td>10</td>\n",
       "        <td>1989</td>\n",
       "        <td>110000000</td>\n",
       "        <td>169800000</td>\n",
       "        <td>None</td>\n",
       "    </tr>\n",
       "    <tr>\n",
       "        <td>3</td>\n",
       "        <td>Seven of Nine</td>\n",
       "        <td>24</td>\n",
       "        <td>Voyager</td>\n",
       "        <td>9.5</td>\n",
       "        <td>1997</td>\n",
       "        <td>None</td>\n",
       "        <td>None</td>\n",
       "        <td>None</td>\n",
       "    </tr>\n",
       "    <tr>\n",
       "        <td>4</td>\n",
       "        <td>Pris</td>\n",
       "        <td>3.75</td>\n",
       "        <td>Blade Runner</td>\n",
       "        <td>8</td>\n",
       "        <td>1982</td>\n",
       "        <td>30000000</td>\n",
       "        <td>41500000</td>\n",
       "        <td>None</td>\n",
       "    </tr>\n",
       "    <tr>\n",
       "        <td>5</td>\n",
       "        <td>Ada</td>\n",
       "        <td>1</td>\n",
       "        <td>Ex Machina</td>\n",
       "        <td>8</td>\n",
       "        <td>2014</td>\n",
       "        <td>15000000</td>\n",
       "        <td>36900000</td>\n",
       "        <td>None</td>\n",
       "    </tr>\n",
       "    <tr>\n",
       "        <td>6</td>\n",
       "        <td>Freya</td>\n",
       "        <td>121</td>\n",
       "        <td>Saturns Children</td>\n",
       "        <td>8.5</td>\n",
       "        <td>2008</td>\n",
       "        <td>None</td>\n",
       "        <td>None</td>\n",
       "        <td>None</td>\n",
       "    </tr>\n",
       "</table>"
      ],
      "text/plain": [
       "[(0, 'Alita', 18, 'Zalem', 8, 2019, 200000000, 404000000, None),\n",
       " (1, 'Cortana', 21, 'Halo', 9, 2001, None, None, None),\n",
       " (2, 'Major', 35, 'Ghost in the Shell', 10, 1989, 110000000, 169800000, None),\n",
       " (3, 'Seven of Nine', 24, 'Voyager', 9.5, 1997, None, None, None),\n",
       " (4, 'Pris', 3.75, 'Blade Runner', 8, 1982, 30000000, 41500000, None),\n",
       " (5, 'Ada', 1, 'Ex Machina', 8, 2014, 15000000, 36900000, None),\n",
       " (6, 'Freya', 121, 'Saturns Children', 8.5, 2008, None, None, None)]"
      ]
     },
     "execution_count": 14,
     "metadata": {},
     "output_type": "execute_result"
    }
   ],
   "source": [
    "%%sql \n",
    "\n",
    "SELECT * \n",
    "FROM Sheborgs;"
   ]
  },
  {
   "cell_type": "code",
   "execution_count": null,
   "metadata": {},
   "outputs": [],
   "source": []
  }
 ],
 "metadata": {
  "kernelspec": {
   "display_name": "Python 3",
   "language": "python",
   "name": "python3"
  },
  "language_info": {
   "codemirror_mode": {
    "name": "ipython",
    "version": 3
   },
   "file_extension": ".py",
   "mimetype": "text/x-python",
   "name": "python",
   "nbconvert_exporter": "python",
   "pygments_lexer": "ipython3",
   "version": "3.7.6"
  },
  "varInspector": {
   "cols": {
    "lenName": 16,
    "lenType": 16,
    "lenVar": 40
   },
   "kernels_config": {
    "python": {
     "delete_cmd_postfix": "",
     "delete_cmd_prefix": "del ",
     "library": "var_list.py",
     "varRefreshCmd": "print(var_dic_list())"
    },
    "r": {
     "delete_cmd_postfix": ") ",
     "delete_cmd_prefix": "rm(",
     "library": "var_list.r",
     "varRefreshCmd": "cat(var_dic_list()) "
    }
   },
   "types_to_exclude": [
    "module",
    "function",
    "builtin_function_or_method",
    "instance",
    "_Feature"
   ],
   "window_display": false
  }
 },
 "nbformat": 4,
 "nbformat_minor": 4
}
