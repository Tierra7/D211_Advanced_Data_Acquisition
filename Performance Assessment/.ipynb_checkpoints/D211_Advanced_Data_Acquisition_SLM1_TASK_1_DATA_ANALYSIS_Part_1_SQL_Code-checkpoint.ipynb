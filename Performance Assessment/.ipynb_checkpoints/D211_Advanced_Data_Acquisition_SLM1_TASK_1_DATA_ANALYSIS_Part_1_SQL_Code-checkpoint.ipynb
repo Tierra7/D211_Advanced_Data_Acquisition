{
 "cells": [
  {
   "cell_type": "markdown",
   "metadata": {},
   "source": [
    "#### Import Python data science libraries"
   ]
  },
  {
   "cell_type": "code",
   "execution_count": 1,
   "metadata": {},
   "outputs": [],
   "source": [
    "import pandas as pd\n",
    "import sqlite3\n",
    "import sql"
   ]
  },
  {
   "cell_type": "code",
   "execution_count": 2,
   "metadata": {},
   "outputs": [],
   "source": [
    "# Establish sqlite3 library and create a connection\n",
    "cnn = sqlite3.connect('jupyter_sql_tutorial.db')"
   ]
  },
  {
   "cell_type": "code",
   "execution_count": 3,
   "metadata": {},
   "outputs": [],
   "source": [
    "# Load the SQL module to iPython\n",
    "%load_ext sql"
   ]
  },
  {
   "cell_type": "code",
   "execution_count": 4,
   "metadata": {},
   "outputs": [],
   "source": [
    "# Create Jupyter database for the ETL task\n",
    "%sql sqlite:///jupyter_sql_tutorial.db"
   ]
  },
  {
   "cell_type": "markdown",
   "metadata": {},
   "source": [
    "## Import tables from churn_clean"
   ]
  },
  {
   "cell_type": "code",
   "execution_count": 5,
   "metadata": {},
   "outputs": [],
   "source": [
    "# contract = pd.read_csv('data/contract.csv')\n",
    "# customer = pd.read_csv('data/customer.csv')\n",
    "# job = pd.read_csv('data/job.csv')\n",
    "# location = pd.read_csv('data/location.csv')\n",
    "# payment = pd.read_csv('data/payment.csv')"
   ]
  },
  {
   "cell_type": "markdown",
   "metadata": {},
   "source": [
    "## Import churn_clean tables into SQLite Jupyter Database"
   ]
  },
  {
   "cell_type": "code",
   "execution_count": 6,
   "metadata": {},
   "outputs": [],
   "source": [
    "# Import into SQLite database\n",
    "# customer.to_sql('customer', cnn)\n",
    "# location.to_sql('location', cnn)\n",
    "# job.to_sql('job', cnn)\n",
    "# payment.to_sql('payment', cnn)"
   ]
  },
  {
   "cell_type": "markdown",
   "metadata": {},
   "source": [
    "## Import tables from INTL telecom datasets"
   ]
  },
  {
   "cell_type": "code",
   "execution_count": 36,
   "metadata": {},
   "outputs": [],
   "source": [
    "# intl_mobile_subscr = pd.read_csv('data/intl_mobile_subscr_clean.csv')\n",
    "# int_user_gender = pd.read_csv('data/int_user_gender.csv')"
   ]
  },
  {
   "cell_type": "markdown",
   "metadata": {},
   "source": [
    "## Import  INTL telecom datasets tables into SQLite Jupyter Database"
   ]
  },
  {
   "cell_type": "code",
   "execution_count": 37,
   "metadata": {},
   "outputs": [
    {
     "name": "stderr",
     "output_type": "stream",
     "text": [
      "C:\\Users\\vreed\\anaconda3\\lib\\site-packages\\pandas\\core\\generic.py:2663: UserWarning: The spaces in these column names will not be changed. In pandas versions < 0.14, spaces were converted to underscores.\n",
      "  method=method,\n"
     ]
    }
   ],
   "source": [
    "# intl_mobile_subscr.to_sql('intl_mobile_subscr', cnn)\n",
    "# int_user_gender.to_sql('int_user_gender', cnn)"
   ]
  },
  {
   "cell_type": "code",
   "execution_count": 12,
   "metadata": {},
   "outputs": [
    {
     "name": "stdout",
     "output_type": "stream",
     "text": [
      " * sqlite:///jupyter_sql_tutorial.db\n",
      "Done.\n"
     ]
    },
    {
     "data": {
      "text/html": [
       "<table>\n",
       "    <tr>\n",
       "        <th>index</th>\n",
       "        <th>contract_id</th>\n",
       "        <th>duration</th>\n",
       "    </tr>\n",
       "    <tr>\n",
       "        <td>0</td>\n",
       "        <td>1</td>\n",
       "        <td>Month-to-month</td>\n",
       "    </tr>\n",
       "    <tr>\n",
       "        <td>1</td>\n",
       "        <td>2</td>\n",
       "        <td>One year</td>\n",
       "    </tr>\n",
       "    <tr>\n",
       "        <td>2</td>\n",
       "        <td>3</td>\n",
       "        <td>Two Year</td>\n",
       "    </tr>\n",
       "</table>"
      ],
      "text/plain": [
       "[(0, 1, 'Month-to-month'), (1, 2, 'One year'), (2, 3, 'Two Year')]"
      ]
     },
     "execution_count": 12,
     "metadata": {},
     "output_type": "execute_result"
    }
   ],
   "source": [
    "%%sql\n",
    "\n",
    "SELECT *\n",
    "FROM contract\n",
    "LIMIT 10;"
   ]
  },
  {
   "cell_type": "code",
   "execution_count": 13,
   "metadata": {},
   "outputs": [
    {
     "name": "stdout",
     "output_type": "stream",
     "text": [
      " * sqlite:///jupyter_sql_tutorial.db\n",
      "Done.\n"
     ]
    },
    {
     "data": {
      "text/html": [
       "<table>\n",
       "    <tr>\n",
       "        <th>index</th>\n",
       "        <th>job_id</th>\n",
       "        <th>job_title</th>\n",
       "    </tr>\n",
       "    <tr>\n",
       "        <td>0</td>\n",
       "        <td>1</td>\n",
       "        <td>Academic librarian</td>\n",
       "    </tr>\n",
       "    <tr>\n",
       "        <td>1</td>\n",
       "        <td>2</td>\n",
       "        <td>Accommodation manager</td>\n",
       "    </tr>\n",
       "    <tr>\n",
       "        <td>2</td>\n",
       "        <td>3</td>\n",
       "        <td>Accountant, chartered</td>\n",
       "    </tr>\n",
       "    <tr>\n",
       "        <td>3</td>\n",
       "        <td>4</td>\n",
       "        <td>Accountant, chartered certified</td>\n",
       "    </tr>\n",
       "    <tr>\n",
       "        <td>4</td>\n",
       "        <td>5</td>\n",
       "        <td>Accountant, chartered management</td>\n",
       "    </tr>\n",
       "    <tr>\n",
       "        <td>5</td>\n",
       "        <td>6</td>\n",
       "        <td>Accountant, chartered public finance</td>\n",
       "    </tr>\n",
       "    <tr>\n",
       "        <td>6</td>\n",
       "        <td>7</td>\n",
       "        <td>Accounting technician</td>\n",
       "    </tr>\n",
       "    <tr>\n",
       "        <td>7</td>\n",
       "        <td>8</td>\n",
       "        <td>Actor</td>\n",
       "    </tr>\n",
       "    <tr>\n",
       "        <td>8</td>\n",
       "        <td>9</td>\n",
       "        <td>Actuary</td>\n",
       "    </tr>\n",
       "    <tr>\n",
       "        <td>9</td>\n",
       "        <td>10</td>\n",
       "        <td>Acupuncturist</td>\n",
       "    </tr>\n",
       "</table>"
      ],
      "text/plain": [
       "[(0, 1, 'Academic librarian'),\n",
       " (1, 2, 'Accommodation manager'),\n",
       " (2, 3, 'Accountant, chartered'),\n",
       " (3, 4, 'Accountant, chartered certified'),\n",
       " (4, 5, 'Accountant, chartered management'),\n",
       " (5, 6, 'Accountant, chartered public finance'),\n",
       " (6, 7, 'Accounting technician'),\n",
       " (7, 8, 'Actor'),\n",
       " (8, 9, 'Actuary'),\n",
       " (9, 10, 'Acupuncturist')]"
      ]
     },
     "execution_count": 13,
     "metadata": {},
     "output_type": "execute_result"
    }
   ],
   "source": [
    "%%sql\n",
    "\n",
    "SELECT *\n",
    "FROM job\n",
    "LIMIT 10;"
   ]
  },
  {
   "cell_type": "code",
   "execution_count": 14,
   "metadata": {},
   "outputs": [
    {
     "name": "stdout",
     "output_type": "stream",
     "text": [
      " * sqlite:///jupyter_sql_tutorial.db\n",
      "Done.\n"
     ]
    },
    {
     "data": {
      "text/html": [
       "<table>\n",
       "    <tr>\n",
       "        <th>index</th>\n",
       "        <th>location_id</th>\n",
       "        <th>zip</th>\n",
       "        <th>city</th>\n",
       "        <th>state</th>\n",
       "        <th>county</th>\n",
       "    </tr>\n",
       "    <tr>\n",
       "        <td>0</td>\n",
       "        <td>1</td>\n",
       "        <td>601</td>\n",
       "        <td>Adjuntas</td>\n",
       "        <td>PR</td>\n",
       "        <td>Adjuntas</td>\n",
       "    </tr>\n",
       "    <tr>\n",
       "        <td>1</td>\n",
       "        <td>2</td>\n",
       "        <td>610</td>\n",
       "        <td>Anasco</td>\n",
       "        <td>PR</td>\n",
       "        <td>Añasco</td>\n",
       "    </tr>\n",
       "    <tr>\n",
       "        <td>2</td>\n",
       "        <td>3</td>\n",
       "        <td>647</td>\n",
       "        <td>Ensenada</td>\n",
       "        <td>PR</td>\n",
       "        <td>Guánica</td>\n",
       "    </tr>\n",
       "    <tr>\n",
       "        <td>3</td>\n",
       "        <td>4</td>\n",
       "        <td>652</td>\n",
       "        <td>Garrochales</td>\n",
       "        <td>PR</td>\n",
       "        <td>Arecibo</td>\n",
       "    </tr>\n",
       "    <tr>\n",
       "        <td>4</td>\n",
       "        <td>5</td>\n",
       "        <td>662</td>\n",
       "        <td>Isabela</td>\n",
       "        <td>PR</td>\n",
       "        <td>Isabela</td>\n",
       "    </tr>\n",
       "    <tr>\n",
       "        <td>5</td>\n",
       "        <td>6</td>\n",
       "        <td>667</td>\n",
       "        <td>Lajas</td>\n",
       "        <td>PR</td>\n",
       "        <td>Lajas</td>\n",
       "    </tr>\n",
       "    <tr>\n",
       "        <td>6</td>\n",
       "        <td>7</td>\n",
       "        <td>674</td>\n",
       "        <td>Manati</td>\n",
       "        <td>PR</td>\n",
       "        <td>Manatí</td>\n",
       "    </tr>\n",
       "    <tr>\n",
       "        <td>7</td>\n",
       "        <td>8</td>\n",
       "        <td>683</td>\n",
       "        <td>San German</td>\n",
       "        <td>PR</td>\n",
       "        <td>San Germán</td>\n",
       "    </tr>\n",
       "    <tr>\n",
       "        <td>8</td>\n",
       "        <td>9</td>\n",
       "        <td>692</td>\n",
       "        <td>Vega Alta</td>\n",
       "        <td>PR</td>\n",
       "        <td>Vega Alta</td>\n",
       "    </tr>\n",
       "    <tr>\n",
       "        <td>9</td>\n",
       "        <td>10</td>\n",
       "        <td>694</td>\n",
       "        <td>Vega Baja</td>\n",
       "        <td>PR</td>\n",
       "        <td>Vega Baja</td>\n",
       "    </tr>\n",
       "</table>"
      ],
      "text/plain": [
       "[(0, 1, 601, 'Adjuntas', 'PR', 'Adjuntas'),\n",
       " (1, 2, 610, 'Anasco', 'PR', 'Añasco'),\n",
       " (2, 3, 647, 'Ensenada', 'PR', 'Guánica'),\n",
       " (3, 4, 652, 'Garrochales', 'PR', 'Arecibo'),\n",
       " (4, 5, 662, 'Isabela', 'PR', 'Isabela'),\n",
       " (5, 6, 667, 'Lajas', 'PR', 'Lajas'),\n",
       " (6, 7, 674, 'Manati', 'PR', 'Manatí'),\n",
       " (7, 8, 683, 'San German', 'PR', 'San Germán'),\n",
       " (8, 9, 692, 'Vega Alta', 'PR', 'Vega Alta'),\n",
       " (9, 10, 694, 'Vega Baja', 'PR', 'Vega Baja')]"
      ]
     },
     "execution_count": 14,
     "metadata": {},
     "output_type": "execute_result"
    }
   ],
   "source": [
    "%%sql\n",
    "\n",
    "SELECT *\n",
    "FROM location\n",
    "LIMIT 10;"
   ]
  },
  {
   "cell_type": "code",
   "execution_count": 15,
   "metadata": {},
   "outputs": [
    {
     "name": "stdout",
     "output_type": "stream",
     "text": [
      " * sqlite:///jupyter_sql_tutorial.db\n",
      "Done.\n"
     ]
    },
    {
     "data": {
      "text/html": [
       "<table>\n",
       "    <tr>\n",
       "        <th>index</th>\n",
       "        <th>payment_id</th>\n",
       "        <th>payment_type</th>\n",
       "    </tr>\n",
       "    <tr>\n",
       "        <td>0</td>\n",
       "        <td>1</td>\n",
       "        <td>Bank Transfer(automatic)</td>\n",
       "    </tr>\n",
       "    <tr>\n",
       "        <td>1</td>\n",
       "        <td>2</td>\n",
       "        <td>Credit Card (automatic)</td>\n",
       "    </tr>\n",
       "    <tr>\n",
       "        <td>2</td>\n",
       "        <td>3</td>\n",
       "        <td>Electronic Check</td>\n",
       "    </tr>\n",
       "    <tr>\n",
       "        <td>3</td>\n",
       "        <td>4</td>\n",
       "        <td>Mailed Check</td>\n",
       "    </tr>\n",
       "</table>"
      ],
      "text/plain": [
       "[(0, 1, 'Bank Transfer(automatic)'),\n",
       " (1, 2, 'Credit Card (automatic)'),\n",
       " (2, 3, 'Electronic Check'),\n",
       " (3, 4, 'Mailed Check')]"
      ]
     },
     "execution_count": 15,
     "metadata": {},
     "output_type": "execute_result"
    }
   ],
   "source": [
    "%%sql\n",
    "\n",
    "SELECT *\n",
    "FROM payment\n",
    "LIMIT 10;"
   ]
  },
  {
   "cell_type": "code",
   "execution_count": 16,
   "metadata": {},
   "outputs": [
    {
     "name": "stdout",
     "output_type": "stream",
     "text": [
      " * sqlite:///jupyter_sql_tutorial.db\n",
      "Done.\n"
     ]
    },
    {
     "data": {
      "text/html": [
       "<table>\n",
       "    <tr>\n",
       "        <th>customer_id</th>\n",
       "        <th>job_id</th>\n",
       "    </tr>\n",
       "    <tr>\n",
       "        <td>3</td>\n",
       "        <td>Chief Financial Officer</td>\n",
       "    </tr>\n",
       "    <tr>\n",
       "        <td>4</td>\n",
       "        <td>Solicitor</td>\n",
       "    </tr>\n",
       "    <tr>\n",
       "        <td>6</td>\n",
       "        <td>Chief Technology Officer</td>\n",
       "    </tr>\n",
       "    <tr>\n",
       "        <td>7</td>\n",
       "        <td>Surveyor, hydrographic</td>\n",
       "    </tr>\n",
       "    <tr>\n",
       "        <td>9</td>\n",
       "        <td>Teaching laboratory technician</td>\n",
       "    </tr>\n",
       "    <tr>\n",
       "        <td>10</td>\n",
       "        <td>Museum education officer</td>\n",
       "    </tr>\n",
       "    <tr>\n",
       "        <td>11</td>\n",
       "        <td>Teacher, special educational needs</td>\n",
       "    </tr>\n",
       "    <tr>\n",
       "        <td>14</td>\n",
       "        <td>Learning disability nurse</td>\n",
       "    </tr>\n",
       "    <tr>\n",
       "        <td>17</td>\n",
       "        <td>Applications developer</td>\n",
       "    </tr>\n",
       "    <tr>\n",
       "        <td>18</td>\n",
       "        <td>Immunologist</td>\n",
       "    </tr>\n",
       "</table>"
      ],
      "text/plain": [
       "[(3, 'Chief Financial Officer'),\n",
       " (4, 'Solicitor'),\n",
       " (6, 'Chief Technology Officer'),\n",
       " (7, 'Surveyor, hydrographic'),\n",
       " (9, 'Teaching laboratory technician'),\n",
       " (10, 'Museum education officer'),\n",
       " (11, 'Teacher, special educational needs'),\n",
       " (14, 'Learning disability nurse'),\n",
       " (17, 'Applications developer'),\n",
       " (18, 'Immunologist')]"
      ]
     },
     "execution_count": 16,
     "metadata": {},
     "output_type": "execute_result"
    }
   ],
   "source": [
    "%%sql\n",
    "\n",
    "SELECT\n",
    "\tcustomer_id,\n",
    "\tjob_id\n",
    "FROM customer\n",
    "WHERE timezone IN ('America/Los_Angeles', 'America/New_York')\n",
    "LIMIT 10;"
   ]
  },
  {
   "cell_type": "code",
   "execution_count": 18,
   "metadata": {},
   "outputs": [
    {
     "name": "stdout",
     "output_type": "stream",
     "text": [
      " * sqlite:///jupyter_sql_tutorial.db\n",
      "(sqlite3.OperationalError) no such table: matches_germany\n",
      "[SQL: SELECT CASE WHEN hometeam_id = 10189 THEN 'FC Schalke 04'\n",
      "    WHEN hometeam_id = 9823 THEN 'FC Bayern Munich'\n",
      "    ELSE 'Other' \n",
      "    END AS home_team,\n",
      "    COUNT(id) AS total_matches\n",
      "FROM matches_germany\n",
      "GROUP BY home_team;]\n",
      "(Background on this error at: http://sqlalche.me/e/e3q8)\n"
     ]
    }
   ],
   "source": [
    "%%sql\n",
    "\n",
    "SELECT\n",
    "    CASE WHEN hometeam_id = 10189 THEN 'FC Schalke 04'\n",
    "    WHEN hometeam_id = 9823 THEN 'FC Bayern Munich'\n",
    "    ELSE 'Other' \n",
    "    END AS home_team,\n",
    "    COUNT(id) AS total_matches\n",
    "FROM matches_germany\n",
    "GROUP BY home_team;"
   ]
  },
  {
   "cell_type": "code",
   "execution_count": 19,
   "metadata": {},
   "outputs": [
    {
     "name": "stdout",
     "output_type": "stream",
     "text": [
      " * sqlite:///jupyter_sql_tutorial.db\n",
      "Done.\n"
     ]
    },
    {
     "data": {
      "text/html": [
       "<table>\n",
       "    <tr>\n",
       "        <th>social_class</th>\n",
       "        <th>totals</th>\n",
       "    </tr>\n",
       "    <tr>\n",
       "        <td>One Percenters</td>\n",
       "        <td>395</td>\n",
       "    </tr>\n",
       "    <tr>\n",
       "        <td>Middle Class</td>\n",
       "        <td>2432</td>\n",
       "    </tr>\n",
       "    <tr>\n",
       "        <td>Just Over Broke (JOB)</td>\n",
       "        <td>7173</td>\n",
       "    </tr>\n",
       "</table>"
      ],
      "text/plain": [
       "[('One Percenters', 395),\n",
       " ('Middle Class', 2432),\n",
       " ('Just Over Broke (JOB)', 7173)]"
      ]
     },
     "execution_count": 19,
     "metadata": {},
     "output_type": "execute_result"
    }
   ],
   "source": [
    "%%sql\n",
    "\n",
    "SELECT \n",
    "    CASE WHEN income > 100000 THEN 'One Percenters'\n",
    "    WHEN income > 50000 THEN 'Middle Class'\n",
    "    ELSE 'Just Over Broke (JOB)'\n",
    "    END AS social_class,\n",
    "    COUNT(customer_id) AS totals\n",
    "FROM customer\n",
    "GROUP BY social_class\n",
    "ORDER BY social_class DESC;"
   ]
  },
  {
   "cell_type": "markdown",
   "metadata": {},
   "source": [
    "#### CASE statements comparing column values"
   ]
  },
  {
   "cell_type": "code",
   "execution_count": 20,
   "metadata": {},
   "outputs": [
    {
     "name": "stdout",
     "output_type": "stream",
     "text": [
      " * sqlite:///jupyter_sql_tutorial.db\n",
      "(sqlite3.OperationalError) no such table: matches_spain\n",
      "[SQL: SELECT date, CASE WHEN home_goal > away_goal THEN 'Home win!'\n",
      "        WHEN home_goal < away_goal THEN 'Home loss :(' \n",
      "        ELSE 'Tie' END AS outcome\n",
      "FROM matches_spain;]\n",
      "(Background on this error at: http://sqlalche.me/e/e3q8)\n"
     ]
    }
   ],
   "source": [
    "%%sql\n",
    "\n",
    "SELECT \n",
    "\tdate,\n",
    "\tCASE WHEN home_goal > away_goal THEN 'Home win!'\n",
    "        WHEN home_goal < away_goal THEN 'Home loss :(' \n",
    "        ELSE 'Tie' END AS outcome\n",
    "FROM matches_spain;"
   ]
  },
  {
   "cell_type": "code",
   "execution_count": 21,
   "metadata": {},
   "outputs": [
    {
     "name": "stdout",
     "output_type": "stream",
     "text": [
      " * sqlite:///jupyter_sql_tutorial.db\n",
      "(sqlite3.OperationalError) no such table: matches_spain\n",
      "[SQL: SELECT m.date, --Select the team long name column and call it 'opponent'\n",
      "\tt.team_long_name AS opponent, \n",
      "\t-- Complete the CASE statement with an alias\n",
      "\tCASE WHEN m.home_goal > m.away_goal THEN 'Home win!'\n",
      "        WHEN m.home_goal < m.away_goal THEN 'Home loss :('\n",
      "        ELSE 'Tie' END AS outcome\n",
      "FROM matches_spain AS m\n",
      "-- Left join teams_spain onto matches_spain\n",
      "LEFT JOIN teams_spain AS t\n",
      "ON m.awayteam_id = t.team_api_id;]\n",
      "(Background on this error at: http://sqlalche.me/e/e3q8)\n"
     ]
    }
   ],
   "source": [
    "%%sql\n",
    "\n",
    "SELECT \n",
    "\tm.date,\n",
    "\t--Select the team long name column and call it 'opponent'\n",
    "\tt.team_long_name AS opponent, \n",
    "\t-- Complete the CASE statement with an alias\n",
    "\tCASE WHEN m.home_goal > m.away_goal THEN 'Home win!'\n",
    "        WHEN m.home_goal < m.away_goal THEN 'Home loss :('\n",
    "        ELSE 'Tie' END AS outcome\n",
    "FROM matches_spain AS m\n",
    "-- Left join teams_spain onto matches_spain\n",
    "LEFT JOIN teams_spain AS t\n",
    "ON m.awayteam_id = t.team_api_id;"
   ]
  },
  {
   "cell_type": "markdown",
   "metadata": {},
   "source": [
    "#### CASE WHEN . . . AND then some"
   ]
  },
  {
   "cell_type": "code",
   "execution_count": 28,
   "metadata": {},
   "outputs": [
    {
     "name": "stdout",
     "output_type": "stream",
     "text": [
      " * sqlite:///jupyter_sql_tutorial.db\n",
      "Done.\n"
     ]
    },
    {
     "data": {
      "text/html": [
       "<table>\n",
       "    <tr>\n",
       "        <th>area</th>\n",
       "        <th>age</th>\n",
       "        <th>churn</th>\n",
       "        <th>churn_or_stayed</th>\n",
       "        <th>totals</th>\n",
       "    </tr>\n",
       "    <tr>\n",
       "        <td>Urban</td>\n",
       "        <td>21</td>\n",
       "        <td>No</td>\n",
       "        <td>Outlier</td>\n",
       "        <td>211</td>\n",
       "    </tr>\n",
       "    <tr>\n",
       "        <td>Urban</td>\n",
       "        <td>35</td>\n",
       "        <td>Yes</td>\n",
       "        <td>Old and stayed</td>\n",
       "        <td>74</td>\n",
       "    </tr>\n",
       "</table>"
      ],
      "text/plain": [
       "[('Urban', 21, 'No', 'Outlier', 211),\n",
       " ('Urban', 35, 'Yes', 'Old and stayed', 74)]"
      ]
     },
     "execution_count": 28,
     "metadata": {},
     "output_type": "execute_result"
    }
   ],
   "source": [
    "%%sql\n",
    "\n",
    "SELECT area, age, churn,\n",
    "    CASE WHEN age = 35 AND tenure > 7\n",
    "        THEN 'Old and stayed'\n",
    "    WHEN age = 21 AND tenure <=7\n",
    "        THEN 'Young and left'\n",
    "    ELSE 'Outlier' END AS churn_or_stayed,\n",
    "    COUNT(customer_id) AS totals\n",
    "FROM customer\n",
    "WHERE age = 35 OR age = 21\n",
    "GROUP BY churn;"
   ]
  },
  {
   "cell_type": "code",
   "execution_count": 29,
   "metadata": {},
   "outputs": [
    {
     "name": "stdout",
     "output_type": "stream",
     "text": [
      " * sqlite:///jupyter_sql_tutorial.db\n",
      "Done.\n"
     ]
    },
    {
     "data": {
      "text/html": [
       "<table>\n",
       "    <tr>\n",
       "        <th>index</th>\n",
       "        <th>customer_id</th>\n",
       "        <th>lat</th>\n",
       "        <th>lng</th>\n",
       "        <th>population</th>\n",
       "        <th>area</th>\n",
       "        <th>timezone</th>\n",
       "        <th>children</th>\n",
       "        <th>age</th>\n",
       "        <th>income</th>\n",
       "        <th>marital</th>\n",
       "        <th>churn</th>\n",
       "        <th>gender</th>\n",
       "        <th>tenure</th>\n",
       "        <th>monthlycharge</th>\n",
       "        <th>bandwidth_gb_year</th>\n",
       "        <th>outage_sec_perweek</th>\n",
       "        <th>email</th>\n",
       "        <th>contacts</th>\n",
       "        <th>yearly_equip_failure</th>\n",
       "        <th>techie</th>\n",
       "        <th>port_modem</th>\n",
       "        <th>tablet</th>\n",
       "        <th>job_id</th>\n",
       "        <th>payment_id</th>\n",
       "        <th>contract_id</th>\n",
       "        <th>location_id</th>\n",
       "    </tr>\n",
       "    <tr>\n",
       "        <td>0</td>\n",
       "        <td>1</td>\n",
       "        <td>56.251000000000005</td>\n",
       "        <td>-133.37571</td>\n",
       "        <td>38</td>\n",
       "        <td>Urban</td>\n",
       "        <td>America/Sitka</td>\n",
       "        <td>0</td>\n",
       "        <td>68</td>\n",
       "        <td>28561.99</td>\n",
       "        <td>Widowed</td>\n",
       "        <td>No</td>\n",
       "        <td>Male</td>\n",
       "        <td>6.795512947000001</td>\n",
       "        <td>172.45551899999998</td>\n",
       "        <td>904.5361101999999</td>\n",
       "        <td>7.9783229470000006</td>\n",
       "        <td>10</td>\n",
       "        <td>0</td>\n",
       "        <td>1</td>\n",
       "        <td>No</td>\n",
       "        <td>Yes</td>\n",
       "        <td>Yes</td>\n",
       "        <td>Environmental health practitioner</td>\n",
       "        <td>Credit Card (automatic)</td>\n",
       "        <td>One year</td>\n",
       "        <td>99927</td>\n",
       "    </tr>\n",
       "    <tr>\n",
       "        <td>1</td>\n",
       "        <td>2</td>\n",
       "        <td>44.32893</td>\n",
       "        <td>-84.2408</td>\n",
       "        <td>10446</td>\n",
       "        <td>Urban</td>\n",
       "        <td>America/Detroit</td>\n",
       "        <td>1</td>\n",
       "        <td>27</td>\n",
       "        <td>21704.77</td>\n",
       "        <td>Married</td>\n",
       "        <td>Yes</td>\n",
       "        <td>Female</td>\n",
       "        <td>1.156680997</td>\n",
       "        <td>242.632554</td>\n",
       "        <td>800.9827661</td>\n",
       "        <td>11.69907956</td>\n",
       "        <td>12</td>\n",
       "        <td>0</td>\n",
       "        <td>1</td>\n",
       "        <td>Yes</td>\n",
       "        <td>No</td>\n",
       "        <td>Yes</td>\n",
       "        <td>Programmer, multimedia</td>\n",
       "        <td>Bank Transfer(automatic)</td>\n",
       "        <td>Month-to-month</td>\n",
       "        <td>48661</td>\n",
       "    </tr>\n",
       "    <tr>\n",
       "        <td>2</td>\n",
       "        <td>3</td>\n",
       "        <td>45.35589</td>\n",
       "        <td>-123.24656999999999</td>\n",
       "        <td>3735</td>\n",
       "        <td>Urban</td>\n",
       "        <td>America/Los_Angeles</td>\n",
       "        <td>4</td>\n",
       "        <td>50</td>\n",
       "        <td>9609.57</td>\n",
       "        <td>Widowed</td>\n",
       "        <td>No</td>\n",
       "        <td>Female</td>\n",
       "        <td>15.75414408</td>\n",
       "        <td>159.947583</td>\n",
       "        <td>2054.706961</td>\n",
       "        <td>10.75280028</td>\n",
       "        <td>9</td>\n",
       "        <td>0</td>\n",
       "        <td>1</td>\n",
       "        <td>Yes</td>\n",
       "        <td>Yes</td>\n",
       "        <td>No</td>\n",
       "        <td>Chief Financial Officer</td>\n",
       "        <td>Credit Card (automatic)</td>\n",
       "        <td>Two Year</td>\n",
       "        <td>97148</td>\n",
       "    </tr>\n",
       "    <tr>\n",
       "        <td>3</td>\n",
       "        <td>4</td>\n",
       "        <td>32.96687</td>\n",
       "        <td>-117.24798</td>\n",
       "        <td>13863</td>\n",
       "        <td>Suburban</td>\n",
       "        <td>America/Los_Angeles</td>\n",
       "        <td>1</td>\n",
       "        <td>48</td>\n",
       "        <td>18925.23</td>\n",
       "        <td>Married</td>\n",
       "        <td>No</td>\n",
       "        <td>Male</td>\n",
       "        <td>17.08722662</td>\n",
       "        <td>119.95683999999999</td>\n",
       "        <td>2164.579412</td>\n",
       "        <td>14.91353964</td>\n",
       "        <td>15</td>\n",
       "        <td>2</td>\n",
       "        <td>0</td>\n",
       "        <td>Yes</td>\n",
       "        <td>No</td>\n",
       "        <td>No</td>\n",
       "        <td>Solicitor</td>\n",
       "        <td>Mailed Check</td>\n",
       "        <td>Two Year</td>\n",
       "        <td>92014</td>\n",
       "    </tr>\n",
       "    <tr>\n",
       "        <td>4</td>\n",
       "        <td>5</td>\n",
       "        <td>29.38012</td>\n",
       "        <td>-95.80673</td>\n",
       "        <td>11352</td>\n",
       "        <td>Suburban</td>\n",
       "        <td>America/Chicago</td>\n",
       "        <td>0</td>\n",
       "        <td>83</td>\n",
       "        <td>40074.19</td>\n",
       "        <td>Separated</td>\n",
       "        <td>Yes</td>\n",
       "        <td>Male</td>\n",
       "        <td>1.6709717259999999</td>\n",
       "        <td>149.948316</td>\n",
       "        <td>271.49343619999996</td>\n",
       "        <td>8.147416533</td>\n",
       "        <td>16</td>\n",
       "        <td>2</td>\n",
       "        <td>1</td>\n",
       "        <td>No</td>\n",
       "        <td>Yes</td>\n",
       "        <td>No</td>\n",
       "        <td>Medical illustrator</td>\n",
       "        <td>Mailed Check</td>\n",
       "        <td>Month-to-month</td>\n",
       "        <td>77461</td>\n",
       "    </tr>\n",
       "</table>"
      ],
      "text/plain": [
       "[(0, 1, 56.251000000000005, -133.37571, 38, 'Urban', 'America/Sitka', 0, 68, 28561.99, 'Widowed', 'No', 'Male', 6.795512947000001, 172.45551899999998, 904.5361101999999, 7.9783229470000006, 10, 0, 1, 'No', 'Yes', 'Yes', 'Environmental health practitioner', 'Credit Card (automatic)', 'One year', 99927),\n",
       " (1, 2, 44.32893, -84.2408, 10446, 'Urban', 'America/Detroit', 1, 27, 21704.77, 'Married', 'Yes', 'Female', 1.156680997, 242.632554, 800.9827661, 11.69907956, 12, 0, 1, 'Yes', 'No', 'Yes', 'Programmer, multimedia', 'Bank Transfer(automatic)', 'Month-to-month', 48661),\n",
       " (2, 3, 45.35589, -123.24656999999999, 3735, 'Urban', 'America/Los_Angeles', 4, 50, 9609.57, 'Widowed', 'No', 'Female', 15.75414408, 159.947583, 2054.706961, 10.75280028, 9, 0, 1, 'Yes', 'Yes', 'No', 'Chief Financial Officer', 'Credit Card (automatic)', 'Two Year', 97148),\n",
       " (3, 4, 32.96687, -117.24798, 13863, 'Suburban', 'America/Los_Angeles', 1, 48, 18925.23, 'Married', 'No', 'Male', 17.08722662, 119.95683999999999, 2164.579412, 14.91353964, 15, 2, 0, 'Yes', 'No', 'No', 'Solicitor', 'Mailed Check', 'Two Year', 92014),\n",
       " (4, 5, 29.38012, -95.80673, 11352, 'Suburban', 'America/Chicago', 0, 83, 40074.19, 'Separated', 'Yes', 'Male', 1.6709717259999999, 149.948316, 271.49343619999996, 8.147416533, 16, 2, 1, 'No', 'Yes', 'No', 'Medical illustrator', 'Mailed Check', 'Month-to-month', 77461)]"
      ]
     },
     "execution_count": 29,
     "metadata": {},
     "output_type": "execute_result"
    }
   ],
   "source": [
    "%%sql\n",
    "\n",
    "SELECT *\n",
    "FROM customer\n",
    "LIMIT 5;"
   ]
  },
  {
   "cell_type": "code",
   "execution_count": 34,
   "metadata": {},
   "outputs": [
    {
     "name": "stdout",
     "output_type": "stream",
     "text": [
      " * sqlite:///jupyter_sql_tutorial.db\n",
      "Done.\n"
     ]
    },
    {
     "data": {
      "text/html": [
       "<table>\n",
       "    <tr>\n",
       "        <th>area</th>\n",
       "        <th>age_category</th>\n",
       "        <th>totals</th>\n",
       "    </tr>\n",
       "    <tr>\n",
       "        <td>Suburban</td>\n",
       "        <td>Munchkin</td>\n",
       "        <td>130</td>\n",
       "    </tr>\n",
       "    <tr>\n",
       "        <td>Urban</td>\n",
       "        <td>Older</td>\n",
       "        <td>6881</td>\n",
       "    </tr>\n",
       "    <tr>\n",
       "        <td>Urban</td>\n",
       "        <td>Thirty something</td>\n",
       "        <td>2989</td>\n",
       "    </tr>\n",
       "</table>"
      ],
      "text/plain": [
       "[('Suburban', 'Munchkin', 130),\n",
       " ('Urban', 'Older', 6881),\n",
       " ('Urban', 'Thirty something', 2989)]"
      ]
     },
     "execution_count": 34,
     "metadata": {},
     "output_type": "execute_result"
    }
   ],
   "source": [
    "%%sql\n",
    "\n",
    "SELECT area,\n",
    "    CASE WHEN age >= 40 THEN 'Older'\n",
    "    WHEN age < 39 THEN 'Thirty something'\n",
    "    ELSE 'Munchkin'\n",
    "    END AS age_category,\n",
    "    COUNT(customer_id) AS totals\n",
    "FROM customer\n",
    "GROUP BY age_category\n",
    "LIMIT 10;"
   ]
  },
  {
   "cell_type": "markdown",
   "metadata": {},
   "source": [
    "#### WHERE subqueries"
   ]
  },
  {
   "cell_type": "code",
   "execution_count": 35,
   "metadata": {},
   "outputs": [
    {
     "name": "stdout",
     "output_type": "stream",
     "text": [
      " * sqlite:///jupyter_sql_tutorial.db\n",
      "(sqlite3.OperationalError) no such column: age\n",
      "[SQL: SELECT age, COUNT(churn) FROM (SELECT area\n",
      "      FROM customer) AS subquery;]\n",
      "(Background on this error at: http://sqlalche.me/e/e3q8)\n"
     ]
    }
   ],
   "source": [
    "%%sql\n",
    "\n",
    "SELECT age, COUNT(churn)\n",
    "FROM (SELECT area\n",
    "      FROM customer) AS subquery;"
   ]
  },
  {
   "cell_type": "code",
   "execution_count": null,
   "metadata": {},
   "outputs": [],
   "source": []
  }
 ],
 "metadata": {
  "kernelspec": {
   "display_name": "Python 3",
   "language": "python",
   "name": "python3"
  },
  "language_info": {
   "codemirror_mode": {
    "name": "ipython",
    "version": 3
   },
   "file_extension": ".py",
   "mimetype": "text/x-python",
   "name": "python",
   "nbconvert_exporter": "python",
   "pygments_lexer": "ipython3",
   "version": "3.7.6"
  },
  "varInspector": {
   "cols": {
    "lenName": 16,
    "lenType": 16,
    "lenVar": 40
   },
   "kernels_config": {
    "python": {
     "delete_cmd_postfix": "",
     "delete_cmd_prefix": "del ",
     "library": "var_list.py",
     "varRefreshCmd": "print(var_dic_list())"
    },
    "r": {
     "delete_cmd_postfix": ") ",
     "delete_cmd_prefix": "rm(",
     "library": "var_list.r",
     "varRefreshCmd": "cat(var_dic_list()) "
    }
   },
   "types_to_exclude": [
    "module",
    "function",
    "builtin_function_or_method",
    "instance",
    "_Feature"
   ],
   "window_display": false
  }
 },
 "nbformat": 4,
 "nbformat_minor": 4
}
